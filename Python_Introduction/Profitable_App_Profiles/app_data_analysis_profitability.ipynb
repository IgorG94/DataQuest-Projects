{
 "cells": [
  {
   "cell_type": "markdown",
   "metadata": {
    "collapsed": true
   },
   "source": [
    "# App Data Analysis - Profitability\n",
    "\n",
    "This project is an **exploratory data analysis** based on data related to the usage of free apps  available on Google Play (Android) and App Store (iOS).\n",
    "\n",
    "The goal of this project is to **analyze the available data and find out what makes an app more profitable**. Since all apps are free and revenue comes from engagement (in-app ads), profitability in this case means *attraction* - the more users engaged using the apps, the better.\n",
    "\n",
    "--------\n",
    "\n",
    "## Opening and Exploring the Data\n",
    "\n",
    "We have a sample of data from both app markets (Apple and Google) that allows us to analyze the profitability for each case.\n",
    "\n",
    "First, let's open the CSV files where the app datasets are stored."
   ]
  },
  {
   "cell_type": "code",
   "execution_count": 1,
   "metadata": {
    "collapsed": true
   },
   "outputs": [],
   "source": [
    "from csv import reader\n",
    "\n",
    "apple_file = open('AppleStore.csv', encoding='utf8')\n",
    "google_file = open('googleplaystore.csv', encoding='utf8')\n",
    "\n",
    "apple_data = list(reader(apple_file))\n",
    "google_data = list(reader(google_file))"
   ]
  },
  {
   "cell_type": "code",
   "execution_count": 2,
   "metadata": {
    "collapsed": true
   },
   "outputs": [],
   "source": [
    "def explore_data(dataset, start, end, rows_and_columns=False):\n",
    "    dataset_slice = dataset[start:end]    \n",
    "    for row in dataset_slice:\n",
    "        print(row)\n",
    "        print('\\n') # adds a new (empty) line after each row\n",
    "\n",
    "    if rows_and_columns:\n",
    "        print('Number of rows:', len(dataset))\n",
    "        print('Number of columns:', len(dataset[0]))"
   ]
  },
  {
   "cell_type": "code",
   "execution_count": 3,
   "metadata": {
    "collapsed": false
   },
   "outputs": [
    {
     "name": "stdout",
     "output_type": "stream",
     "text": [
      "['284882215', 'Facebook', '389879808', 'USD', '0.0', '2974676', '212', '3.5', '3.5', '95.0', '4+', 'Social Networking', '37', '1', '29', '1']\n",
      "\n",
      "\n",
      "['389801252', 'Instagram', '113954816', 'USD', '0.0', '2161558', '1289', '4.5', '4.0', '10.23', '12+', 'Photo & Video', '37', '0', '29', '1']\n",
      "\n",
      "\n",
      "['529479190', 'Clash of Clans', '116476928', 'USD', '0.0', '2130805', '579', '4.5', '4.5', '9.24.12', '9+', 'Games', '38', '5', '18', '1']\n",
      "\n",
      "\n",
      "Number of rows: 7197\n",
      "Number of columns: 16\n"
     ]
    }
   ],
   "source": [
    "explore_data(apple_data[1:], 0, 3, True)"
   ]
  },
  {
   "cell_type": "code",
   "execution_count": 4,
   "metadata": {
    "collapsed": false,
    "scrolled": false
   },
   "outputs": [
    {
     "name": "stdout",
     "output_type": "stream",
     "text": [
      "['Photo Editor & Candy Camera & Grid & ScrapBook', 'ART_AND_DESIGN', '4.1', '159', '19M', '10,000+', 'Free', '0', 'Everyone', 'Art & Design', 'January 7, 2018', '1.0.0', '4.0.3 and up']\n",
      "\n",
      "\n",
      "['Coloring book moana', 'ART_AND_DESIGN', '3.9', '967', '14M', '500,000+', 'Free', '0', 'Everyone', 'Art & Design;Pretend Play', 'January 15, 2018', '2.0.0', '4.0.3 and up']\n",
      "\n",
      "\n",
      "['U Launcher Lite – FREE Live Cool Themes, Hide Apps', 'ART_AND_DESIGN', '4.7', '87510', '8.7M', '5,000,000+', 'Free', '0', 'Everyone', 'Art & Design', 'August 1, 2018', '1.2.4', '4.0.3 and up']\n",
      "\n",
      "\n",
      "Number of rows: 10841\n",
      "Number of columns: 13\n"
     ]
    }
   ],
   "source": [
    "explore_data(google_data[1:], 0, 3, True)"
   ]
  },
  {
   "cell_type": "code",
   "execution_count": 5,
   "metadata": {
    "collapsed": false
   },
   "outputs": [
    {
     "name": "stdout",
     "output_type": "stream",
     "text": [
      "Apple Data columns:\n",
      "['id', 'track_name', 'size_bytes', 'currency', 'price', 'rating_count_tot', 'rating_count_ver', 'user_rating', 'user_rating_ver', 'ver', 'cont_rating', 'prime_genre', 'sup_devices.num', 'ipadSc_urls.num', 'lang.num', 'vpp_lic']\n"
     ]
    }
   ],
   "source": [
    "print('Apple Data columns:')\n",
    "print(apple_data[0])"
   ]
  },
  {
   "cell_type": "code",
   "execution_count": 6,
   "metadata": {
    "collapsed": false
   },
   "outputs": [
    {
     "name": "stdout",
     "output_type": "stream",
     "text": [
      "Google Data columns:\n",
      "['App', 'Category', 'Rating', 'Reviews', 'Size', 'Installs', 'Type', 'Price', 'Content Rating', 'Genres', 'Last Updated', 'Current Ver', 'Android Ver']\n"
     ]
    }
   ],
   "source": [
    "print('Google Data columns:')\n",
    "print(google_data[0])"
   ]
  },
  {
   "cell_type": "markdown",
   "metadata": {},
   "source": [
    "Above, we have the lists of all columns for both datasets. If you have any trouble knowing what every column means, you can find [here](https://www.kaggle.com/ramamet4/app-store-apple-data-set-10k-apps) the documentation for the Apple dataset and [here](https://www.kaggle.com/lava18/google-play-store-apps) the documentation for the Google dataset.\n",
    "\n",
    "For this analysis, the following columns could help us on finding out what makes an app profitable:\n",
    "\n",
    "**Apple Dataset:**\n",
    "\n",
    "* `track_name` - App name\n",
    "* `size_bytes` - App size, in bytes\n",
    "* `price` - App price\n",
    "* `rating_count_tot` - Total number of ratings\n",
    "* `user_rating` - Average user rating value\n",
    "* `cont_rating` - Content rating\n",
    "* `prime_genre` - Primary genre\n",
    "* `sup_devices.num` - Number of supporting devices\n",
    "* `ipadSc_urls.num` - Number of screenshots showed for display\n",
    "* `lang.num` - Number of supported languages\n",
    "\n",
    "**Google Dataset:**\n",
    "\n",
    "* `App` - App name\n",
    "* `Category` - Category (primary genre)\n",
    "* `Rating` - Average user rating value\n",
    "* `Reviews` - Total number of reviews (ratings)\n",
    "* `Size` - App size, in megabytes (M)\n",
    "* `Installs` - Number of downloads/installs\n",
    "* `Type` - Indicates whether the app is free or paid\n",
    "* `Price` - App price\n",
    "* `Content Rating` - Content rating\n",
    "* `Genres` - App genres"
   ]
  },
  {
   "cell_type": "markdown",
   "metadata": {},
   "source": [
    "## Data Cleaning - Deleting wrong data\n",
    "\n",
    "Now, let's check our app datasets and **remove any inaccurate or duplicate data**.\n",
    "\n",
    "Also, since our company only builds free apps, directed toward an english-speaking audience, we need to **remove all paid apps and all non-english apps**.\n",
    "\n",
    "First of all, let's look for a specific error described [here](https://www.kaggle.com/lava18/google-play-store-apps/discussion/66015)."
   ]
  },
  {
   "cell_type": "code",
   "execution_count": 7,
   "metadata": {
    "collapsed": false
   },
   "outputs": [
    {
     "name": "stdout",
     "output_type": "stream",
     "text": [
      "['Life Made WI-Fi Touchscreen Photo Frame', '1.9', '19', '3.0M', '1,000+', 'Free', '0', 'Everyone', '', 'February 11, 2018', '1.0.19', '4.0 and up']\n"
     ]
    }
   ],
   "source": [
    "print(google_data[10473])"
   ]
  },
  {
   "cell_type": "markdown",
   "metadata": {},
   "source": [
    "As we can see, the category for the app above is missing. Let's remove this row:"
   ]
  },
  {
   "cell_type": "code",
   "execution_count": 8,
   "metadata": {
    "collapsed": true
   },
   "outputs": [],
   "source": [
    "del google_data[10473]"
   ]
  },
  {
   "cell_type": "markdown",
   "metadata": {},
   "source": [
    "Now, let's look for duplicate entries:"
   ]
  },
  {
   "cell_type": "code",
   "execution_count": 9,
   "metadata": {
    "collapsed": false
   },
   "outputs": [
    {
     "name": "stdout",
     "output_type": "stream",
     "text": [
      "Number of duplicate apps - Apple: 0\n",
      "\n",
      "\n",
      "Examples of duplicate apps - Apple: []\n"
     ]
    }
   ],
   "source": [
    "duplicate_apple_apps = []\n",
    "unique_apple_apps = []\n",
    "\n",
    "for app in apple_data[1:]:\n",
    "    name = app[0]\n",
    "    if name in unique_apple_apps:\n",
    "        duplicate_apple_apps.append(name)\n",
    "    else:\n",
    "        unique_apple_apps.append(name)\n",
    "        \n",
    "print('Number of duplicate apps - Apple:', len(duplicate_apple_apps))\n",
    "print('\\n')\n",
    "print('Examples of duplicate apps - Apple:', duplicate_apple_apps[:15])"
   ]
  },
  {
   "cell_type": "code",
   "execution_count": 10,
   "metadata": {
    "collapsed": false,
    "scrolled": false
   },
   "outputs": [
    {
     "name": "stdout",
     "output_type": "stream",
     "text": [
      "Number of duplicate apps - Google: 1181\n",
      "\n",
      "\n",
      "Examples of duplicate apps - Google: ['Quick PDF Scanner + OCR FREE', 'Box', 'Google My Business', 'ZOOM Cloud Meetings', 'join.me - Simple Meetings', 'Box', 'Zenefits', 'Google Ads', 'Google My Business', 'Slack', 'FreshBooks Classic', 'Insightly CRM', 'QuickBooks Accounting: Invoicing & Expenses', 'HipChat - Chat Built for Teams', 'Xero Accounting Software']\n"
     ]
    }
   ],
   "source": [
    "duplicate_google_apps = []\n",
    "unique_google_apps = []\n",
    "\n",
    "for app in google_data[1:]:\n",
    "    name = app[0]\n",
    "    if name in unique_google_apps:\n",
    "        duplicate_google_apps.append(name)\n",
    "    else:\n",
    "        unique_google_apps.append(name)\n",
    "        \n",
    "print('Number of duplicate apps - Google:', len(duplicate_google_apps))\n",
    "print('\\n')\n",
    "print('Examples of duplicate apps - Google:', duplicate_google_apps[:15])"
   ]
  },
  {
   "cell_type": "markdown",
   "metadata": {},
   "source": [
    "As we can see above, only the Google dataset has duplicate entries (1181).\n",
    "We used the `id` column to look for duplicates on Apple dataset and the `App` column to look for duplicates on Google dataset.\n",
    "\n",
    "Let's check an example to build a criterion for removing duplicates:"
   ]
  },
  {
   "cell_type": "code",
   "execution_count": 11,
   "metadata": {
    "collapsed": false
   },
   "outputs": [
    {
     "name": "stdout",
     "output_type": "stream",
     "text": [
      "['Instagram', 'SOCIAL', '4.5', '66577313', 'Varies with device', '1,000,000,000+', 'Free', '0', 'Teen', 'Social', 'July 31, 2018', 'Varies with device', 'Varies with device']\n",
      "['Instagram', 'SOCIAL', '4.5', '66577446', 'Varies with device', '1,000,000,000+', 'Free', '0', 'Teen', 'Social', 'July 31, 2018', 'Varies with device', 'Varies with device']\n",
      "['Instagram', 'SOCIAL', '4.5', '66577313', 'Varies with device', '1,000,000,000+', 'Free', '0', 'Teen', 'Social', 'July 31, 2018', 'Varies with device', 'Varies with device']\n",
      "['Instagram', 'SOCIAL', '4.5', '66509917', 'Varies with device', '1,000,000,000+', 'Free', '0', 'Teen', 'Social', 'July 31, 2018', 'Varies with device', 'Varies with device']\n"
     ]
    }
   ],
   "source": [
    "for app in google_data[1:]:\n",
    "    name = app[0]\n",
    "    if name == 'Instagram':\n",
    "        print(app)"
   ]
  },
  {
   "cell_type": "markdown",
   "metadata": {},
   "source": [
    "The difference between these duplicated entries happens on the fourth position of each row, which corresponds to the number of reviews. Probably the data was collected at different times.\n",
    "\n",
    "Let's keep the most recent data, or in this case, **keep the rows with highest number of reviews**. In order to do it, let's create a dictionary with all unique apps and their latest number of reviews:"
   ]
  },
  {
   "cell_type": "code",
   "execution_count": 12,
   "metadata": {
    "collapsed": false
   },
   "outputs": [
    {
     "name": "stdout",
     "output_type": "stream",
     "text": [
      "We have 9659 unique entries for Google dataset.\n"
     ]
    }
   ],
   "source": [
    "reviews_max_google = {}\n",
    "\n",
    "for app in google_data[1:]:\n",
    "    name = app[0]\n",
    "    n_reviews = float(app[3])\n",
    "    \n",
    "    if name in reviews_max_google and reviews_max_google[name] < n_reviews:\n",
    "        reviews_max_google[name] = n_reviews\n",
    "    elif name not in reviews_max_google:\n",
    "        reviews_max_google[name] = n_reviews\n",
    "        \n",
    "print(\"We have\", len(reviews_max_google), \"unique entries for Google dataset.\")"
   ]
  },
  {
   "cell_type": "markdown",
   "metadata": {},
   "source": [
    "Now, let's use this dictionary to remove all duplicate rows on Google dataset:"
   ]
  },
  {
   "cell_type": "code",
   "execution_count": 13,
   "metadata": {
    "collapsed": false
   },
   "outputs": [
    {
     "name": "stdout",
     "output_type": "stream",
     "text": [
      "We have 9659 unique entries for Google dataset.\n"
     ]
    }
   ],
   "source": [
    "android_clean = []\n",
    "already_added_google = []\n",
    "\n",
    "# We include the already_added list in case there are duplicate\n",
    "# entries with the same number of reviews.\n",
    "\n",
    "for app in google_data[1:]:\n",
    "    name = app[0]\n",
    "    n_reviews = float(app[3])\n",
    "    \n",
    "    if reviews_max_google[name] == n_reviews and name not in already_added_google:\n",
    "        android_clean.append(app)\n",
    "        already_added_google.append(name)\n",
    "        \n",
    "print(\"We have\", len(android_clean), \"unique entries for Google dataset.\")"
   ]
  },
  {
   "cell_type": "code",
   "execution_count": 14,
   "metadata": {
    "collapsed": false
   },
   "outputs": [
    {
     "name": "stdout",
     "output_type": "stream",
     "text": [
      "['Photo Editor & Candy Camera & Grid & ScrapBook', 'ART_AND_DESIGN', '4.1', '159', '19M', '10,000+', 'Free', '0', 'Everyone', 'Art & Design', 'January 7, 2018', '1.0.0', '4.0.3 and up']\n",
      "\n",
      "\n",
      "['U Launcher Lite – FREE Live Cool Themes, Hide Apps', 'ART_AND_DESIGN', '4.7', '87510', '8.7M', '5,000,000+', 'Free', '0', 'Everyone', 'Art & Design', 'August 1, 2018', '1.2.4', '4.0.3 and up']\n",
      "\n",
      "\n",
      "['Sketch - Draw & Paint', 'ART_AND_DESIGN', '4.5', '215644', '25M', '50,000,000+', 'Free', '0', 'Teen', 'Art & Design', 'June 8, 2018', 'Varies with device', '4.2 and up']\n",
      "\n",
      "\n",
      "Number of rows: 9659\n",
      "Number of columns: 13\n"
     ]
    }
   ],
   "source": [
    "explore_data(android_clean, 0, 3, True)"
   ]
  },
  {
   "cell_type": "code",
   "execution_count": 15,
   "metadata": {
    "collapsed": false,
    "scrolled": false
   },
   "outputs": [
    {
     "name": "stdout",
     "output_type": "stream",
     "text": [
      "['284882215', 'Facebook', '389879808', 'USD', '0.0', '2974676', '212', '3.5', '3.5', '95.0', '4+', 'Social Networking', '37', '1', '29', '1']\n",
      "\n",
      "\n",
      "['389801252', 'Instagram', '113954816', 'USD', '0.0', '2161558', '1289', '4.5', '4.0', '10.23', '12+', 'Photo & Video', '37', '0', '29', '1']\n",
      "\n",
      "\n",
      "['529479190', 'Clash of Clans', '116476928', 'USD', '0.0', '2130805', '579', '4.5', '4.5', '9.24.12', '9+', 'Games', '38', '5', '18', '1']\n",
      "\n",
      "\n",
      "Number of rows: 7197\n",
      "Number of columns: 16\n"
     ]
    }
   ],
   "source": [
    "explore_data(apple_data[1:], 0, 3, True)"
   ]
  },
  {
   "cell_type": "markdown",
   "metadata": {},
   "source": [
    "After removing duplicate entries, we now have **9659 rows for Google dataset and 7197 rows for Apple dataset**.\n",
    "\n",
    "Now, let's **remove all non-english apps**:"
   ]
  },
  {
   "cell_type": "code",
   "execution_count": 16,
   "metadata": {
    "collapsed": true
   },
   "outputs": [],
   "source": [
    "def english_app(string):\n",
    "    count_non_ascii = 0\n",
    "    for char in string:\n",
    "        if ord(char) > 127:\n",
    "            count_non_ascii += 1\n",
    "        if count_non_ascii > 3:\n",
    "            return False\n",
    "    return True"
   ]
  },
  {
   "cell_type": "markdown",
   "metadata": {},
   "source": [
    "The function above takes in a string and returns **`False`** if there's **more than three characters** in the string that **doesn't belong to the set of common English characters**, returning **`True`** otherwise.\n",
    "\n",
    "The threshold of three characters is adopted due to certain cases that have a few non-ASCII characters, like `Instachat 😜`.\n",
    "\n",
    "Let's test the function with some cases below:"
   ]
  },
  {
   "cell_type": "code",
   "execution_count": 17,
   "metadata": {
    "collapsed": false
   },
   "outputs": [
    {
     "name": "stdout",
     "output_type": "stream",
     "text": [
      "True\n",
      "False\n",
      "True\n",
      "True\n"
     ]
    }
   ],
   "source": [
    "print(english_app('Instagram'))\n",
    "print(english_app('爱奇艺PPS -《欢乐颂2》电视剧热播'))\n",
    "print(english_app('Docs To Go™ Free Office Suite'))\n",
    "print(english_app('Instachat 😜'))"
   ]
  },
  {
   "cell_type": "markdown",
   "metadata": {},
   "source": [
    "Now, let's use this function to filter out non-English apps from Google and Apple datasets:"
   ]
  },
  {
   "cell_type": "code",
   "execution_count": 18,
   "metadata": {
    "collapsed": false
   },
   "outputs": [
    {
     "name": "stdout",
     "output_type": "stream",
     "text": [
      "['Photo Editor & Candy Camera & Grid & ScrapBook', 'ART_AND_DESIGN', '4.1', '159', '19M', '10,000+', 'Free', '0', 'Everyone', 'Art & Design', 'January 7, 2018', '1.0.0', '4.0.3 and up']\n",
      "\n",
      "\n",
      "['U Launcher Lite – FREE Live Cool Themes, Hide Apps', 'ART_AND_DESIGN', '4.7', '87510', '8.7M', '5,000,000+', 'Free', '0', 'Everyone', 'Art & Design', 'August 1, 2018', '1.2.4', '4.0.3 and up']\n",
      "\n",
      "\n",
      "['Sketch - Draw & Paint', 'ART_AND_DESIGN', '4.5', '215644', '25M', '50,000,000+', 'Free', '0', 'Teen', 'Art & Design', 'June 8, 2018', 'Varies with device', '4.2 and up']\n",
      "\n",
      "\n",
      "Number of rows: 9614\n",
      "Number of columns: 13\n"
     ]
    }
   ],
   "source": [
    "android_non_english = []\n",
    "android_clean_english = []\n",
    "\n",
    "for row in android_clean:\n",
    "    if english_app(row[0]):\n",
    "        android_clean_english.append(row)\n",
    "    else:\n",
    "        android_non_english.append(row)\n",
    "\n",
    "explore_data(android_clean_english, 0, 3, True)"
   ]
  },
  {
   "cell_type": "code",
   "execution_count": 19,
   "metadata": {
    "collapsed": false
   },
   "outputs": [
    {
     "name": "stdout",
     "output_type": "stream",
     "text": [
      "['284882215', 'Facebook', '389879808', 'USD', '0.0', '2974676', '212', '3.5', '3.5', '95.0', '4+', 'Social Networking', '37', '1', '29', '1']\n",
      "\n",
      "\n",
      "['389801252', 'Instagram', '113954816', 'USD', '0.0', '2161558', '1289', '4.5', '4.0', '10.23', '12+', 'Photo & Video', '37', '0', '29', '1']\n",
      "\n",
      "\n",
      "['529479190', 'Clash of Clans', '116476928', 'USD', '0.0', '2130805', '579', '4.5', '4.5', '9.24.12', '9+', 'Games', '38', '5', '18', '1']\n",
      "\n",
      "\n",
      "Number of rows: 6183\n",
      "Number of columns: 16\n"
     ]
    }
   ],
   "source": [
    "apple_non_english = []\n",
    "apple_clean_english = []\n",
    "\n",
    "for row in apple_data[1:]:\n",
    "    if english_app(row[1]):\n",
    "        apple_clean_english.append(row)\n",
    "    else:\n",
    "        apple_non_english.append(row)\n",
    "\n",
    "explore_data(apple_clean_english, 0, 3, True)"
   ]
  },
  {
   "cell_type": "markdown",
   "metadata": {},
   "source": [
    "After removing non-english entries, we now have **9614 rows for Google dataset and 6183 rows for Apple dataset**.\n",
    "\n",
    "Now, as our last step in the data cleaning process, we will **isolate all free apps**, since all of our apps are free to download and install."
   ]
  },
  {
   "cell_type": "code",
   "execution_count": 20,
   "metadata": {
    "collapsed": false,
    "scrolled": true
   },
   "outputs": [
    {
     "name": "stdout",
     "output_type": "stream",
     "text": [
      "['Photo Editor & Candy Camera & Grid & ScrapBook', 'ART_AND_DESIGN', '4.1', '159', '19M', '10,000+', 'Free', '0', 'Everyone', 'Art & Design', 'January 7, 2018', '1.0.0', '4.0.3 and up']\n",
      "\n",
      "\n",
      "['U Launcher Lite – FREE Live Cool Themes, Hide Apps', 'ART_AND_DESIGN', '4.7', '87510', '8.7M', '5,000,000+', 'Free', '0', 'Everyone', 'Art & Design', 'August 1, 2018', '1.2.4', '4.0.3 and up']\n",
      "\n",
      "\n",
      "['Sketch - Draw & Paint', 'ART_AND_DESIGN', '4.5', '215644', '25M', '50,000,000+', 'Free', '0', 'Teen', 'Art & Design', 'June 8, 2018', 'Varies with device', '4.2 and up']\n",
      "\n",
      "\n",
      "Number of rows: 8863\n",
      "Number of columns: 13\n"
     ]
    }
   ],
   "source": [
    "google_final_dataset = []\n",
    "\n",
    "for row in android_clean_english:\n",
    "    if row[6] == 'Free':\n",
    "        google_final_dataset.append(row)\n",
    "        \n",
    "explore_data(google_final_dataset, 0, 3, True)"
   ]
  },
  {
   "cell_type": "code",
   "execution_count": 21,
   "metadata": {
    "collapsed": false
   },
   "outputs": [
    {
     "name": "stdout",
     "output_type": "stream",
     "text": [
      "['284882215', 'Facebook', '389879808', 'USD', '0.0', '2974676', '212', '3.5', '3.5', '95.0', '4+', 'Social Networking', '37', '1', '29', '1']\n",
      "\n",
      "\n",
      "['389801252', 'Instagram', '113954816', 'USD', '0.0', '2161558', '1289', '4.5', '4.0', '10.23', '12+', 'Photo & Video', '37', '0', '29', '1']\n",
      "\n",
      "\n",
      "['529479190', 'Clash of Clans', '116476928', 'USD', '0.0', '2130805', '579', '4.5', '4.5', '9.24.12', '9+', 'Games', '38', '5', '18', '1']\n",
      "\n",
      "\n",
      "Number of rows: 3222\n",
      "Number of columns: 16\n"
     ]
    }
   ],
   "source": [
    "apple_final_dataset = []\n",
    "\n",
    "for row in apple_clean_english:\n",
    "    if float(row[4]) == 0:\n",
    "        apple_final_dataset.append(row)\n",
    "        \n",
    "explore_data(apple_final_dataset, 0, 3, True)"
   ]
  },
  {
   "cell_type": "markdown",
   "metadata": {},
   "source": [
    "In the end of our data cleaning process, we now have **8863 rows for Google dataset and 3222 rows for Apple dataset**."
   ]
  },
  {
   "cell_type": "markdown",
   "metadata": {},
   "source": [
    "## Data Analysis\n",
    "\n",
    "### Most Common Apps by Genre\n",
    "\n",
    "We are using both Google and Apple datasets for this analysis because of our strategy as a company: our end goal is to add our apps on both Google Play and App Store. So, we need to find **app profiles that are successful on both markets**.\n",
    "\n",
    "In our validation strategy for an app ideia, we firstly build a minimal Android version of the app and add it to Google Play. Then, if the app has a good response from users, we develop it further and we build an iOS version if the app is profitable after six months.\n",
    "\n",
    "In order to begin this analysis, we are going to **generate frequency tables to find out what are the most common genres in each market**. To create these frequency tables, we are going to use the following columns for each dataset:\n",
    "\n",
    "* Google dataset: `Genres`, `Category`\n",
    "* Apple dataset: `prime_genre`"
   ]
  },
  {
   "cell_type": "code",
   "execution_count": 22,
   "metadata": {
    "collapsed": false
   },
   "outputs": [],
   "source": [
    "def freq_table(dataset, index):\n",
    "    freq_abs_table = {}\n",
    "    for row in dataset:\n",
    "        if row[index] in freq_abs_table:\n",
    "            freq_abs_table[row[index]] += 1\n",
    "        else:\n",
    "            freq_abs_table[row[index]] = 1\n",
    "    freq_rel_table = {}\n",
    "    for key in freq_abs_table:\n",
    "        prop = freq_abs_table[key] / len(dataset)\n",
    "        freq_rel_table[key] = prop * 100\n",
    "    return freq_rel_table"
   ]
  },
  {
   "cell_type": "code",
   "execution_count": 23,
   "metadata": {
    "collapsed": true
   },
   "outputs": [],
   "source": [
    "def display_table(dataset, index):\n",
    "    table = freq_table(dataset, index)\n",
    "    table_display = []\n",
    "    for key in table:\n",
    "        key_val_as_tuple = (table[key], key)\n",
    "        table_display.append(key_val_as_tuple)\n",
    "\n",
    "    table_sorted = sorted(table_display, reverse = True)\n",
    "    for entry in table_sorted:\n",
    "        print(entry[1], ':', entry[0])"
   ]
  },
  {
   "cell_type": "code",
   "execution_count": 24,
   "metadata": {
    "collapsed": false,
    "scrolled": true
   },
   "outputs": [
    {
     "name": "stdout",
     "output_type": "stream",
     "text": [
      "Games : 58.16263190564867\n",
      "Entertainment : 7.883302296710118\n",
      "Photo & Video : 4.9658597144630665\n",
      "Education : 3.662321539416512\n",
      "Social Networking : 3.2898820608317814\n",
      "Shopping : 2.60707635009311\n",
      "Utilities : 2.5139664804469275\n",
      "Sports : 2.1415270018621975\n",
      "Music : 2.0484171322160147\n",
      "Health & Fitness : 2.0173805090006205\n",
      "Productivity : 1.7380509000620732\n",
      "Lifestyle : 1.5828677839851024\n",
      "News : 1.3345747982619491\n",
      "Travel : 1.2414649286157666\n",
      "Finance : 1.1173184357541899\n",
      "Weather : 0.8690254500310366\n",
      "Food & Drink : 0.8069522036002483\n",
      "Reference : 0.5586592178770949\n",
      "Business : 0.5276225946617008\n",
      "Book : 0.4345127250155183\n",
      "Navigation : 0.186219739292365\n",
      "Medical : 0.186219739292365\n",
      "Catalogs : 0.12414649286157665\n"
     ]
    }
   ],
   "source": [
    "display_table(apple_final_dataset, 11)"
   ]
  },
  {
   "cell_type": "markdown",
   "metadata": {},
   "source": [
    "As we can see by the results above:\n",
    "\n",
    "* On Apple dataset, the most common genres are **`Games` (58.16%), `Entertainment` (7.88%) and `Photo & Video` (4.97%)**.\n",
    "* The majority of apps are designed for **entertainment purposes**, instead of practical purposes, like education (3.66%), shopping (2.61%) or social networking (3.28%)\n",
    "\n",
    "Based on this frequency table, a **gaming app** seems to be the most recommended app profile. However, we know that **having a large number of gaming apps does not necessarily imply that these apps generally have a large number of users** (demand is not necessarily equal to offer)."
   ]
  },
  {
   "cell_type": "code",
   "execution_count": 25,
   "metadata": {
    "collapsed": false,
    "scrolled": true
   },
   "outputs": [
    {
     "name": "stdout",
     "output_type": "stream",
     "text": [
      "FAMILY : 18.898792733837304\n",
      "GAME : 9.725826469592688\n",
      "TOOLS : 8.462146000225657\n",
      "BUSINESS : 4.592124562789123\n",
      "LIFESTYLE : 3.9038700214374367\n",
      "PRODUCTIVITY : 3.8925871601038025\n",
      "FINANCE : 3.7007785174320205\n",
      "MEDICAL : 3.5315355974275078\n",
      "SPORTS : 3.396141261423897\n",
      "PERSONALIZATION : 3.317161232088458\n",
      "COMMUNICATION : 3.2381812027530184\n",
      "HEALTH_AND_FITNESS : 3.0802211440821394\n",
      "PHOTOGRAPHY : 2.944826808078529\n",
      "NEWS_AND_MAGAZINES : 2.798149610741284\n",
      "SOCIAL : 2.6627552747376737\n",
      "TRAVEL_AND_LOCAL : 2.335552296062281\n",
      "SHOPPING : 2.245289405393208\n",
      "BOOKS_AND_REFERENCE : 2.1437436533904997\n",
      "DATING : 1.8616721200496444\n",
      "VIDEO_PLAYERS : 1.7939749520478394\n",
      "MAPS_AND_NAVIGATION : 1.399074805370642\n",
      "FOOD_AND_DRINK : 1.241114746699763\n",
      "EDUCATION : 1.1621347173643235\n",
      "ENTERTAINMENT : 0.9590432133589079\n",
      "LIBRARIES_AND_DEMO : 0.9364774906916393\n",
      "AUTO_AND_VEHICLES : 0.9251946293580051\n",
      "HOUSE_AND_HOME : 0.8236488773552973\n",
      "WEATHER : 0.8010831546880289\n",
      "EVENTS : 0.7108202640189552\n",
      "PARENTING : 0.6544059573507841\n",
      "ART_AND_DESIGN : 0.6431230960171499\n",
      "COMICS : 0.6205573733498815\n",
      "BEAUTY : 0.5979916506826132\n"
     ]
    }
   ],
   "source": [
    "display_table(google_final_dataset, 1)"
   ]
  },
  {
   "cell_type": "code",
   "execution_count": 26,
   "metadata": {
    "collapsed": false,
    "scrolled": true
   },
   "outputs": [
    {
     "name": "stdout",
     "output_type": "stream",
     "text": [
      "Tools : 8.450863138892023\n",
      "Entertainment : 6.070179397495204\n",
      "Education : 5.348076272142616\n",
      "Business : 4.592124562789123\n",
      "Productivity : 3.8925871601038025\n",
      "Lifestyle : 3.8925871601038025\n",
      "Finance : 3.7007785174320205\n",
      "Medical : 3.5315355974275078\n",
      "Sports : 3.463838429425702\n",
      "Personalization : 3.317161232088458\n",
      "Communication : 3.2381812027530184\n",
      "Action : 3.102786866749408\n",
      "Health & Fitness : 3.0802211440821394\n",
      "Photography : 2.944826808078529\n",
      "News & Magazines : 2.798149610741284\n",
      "Social : 2.6627552747376737\n",
      "Travel & Local : 2.324269434728647\n",
      "Shopping : 2.245289405393208\n",
      "Books & Reference : 2.1437436533904997\n",
      "Simulation : 2.042197901387792\n",
      "Dating : 1.8616721200496444\n",
      "Arcade : 1.8503892587160102\n",
      "Video Players & Editors : 1.771409229380571\n",
      "Casual : 1.7601263680469368\n",
      "Maps & Navigation : 1.399074805370642\n",
      "Food & Drink : 1.241114746699763\n",
      "Puzzle : 1.128286133363421\n",
      "Racing : 0.9928917973598104\n",
      "Role Playing : 0.9364774906916393\n",
      "Libraries & Demo : 0.9364774906916393\n",
      "Auto & Vehicles : 0.9251946293580051\n",
      "Strategy : 0.9026289066907368\n",
      "House & Home : 0.8236488773552973\n",
      "Weather : 0.8010831546880289\n",
      "Events : 0.7108202640189552\n",
      "Adventure : 0.6769716800180525\n",
      "Comics : 0.6092745120162473\n",
      "Beauty : 0.5979916506826132\n",
      "Art & Design : 0.5979916506826132\n",
      "Parenting : 0.4964458986799052\n",
      "Card : 0.4513144533453684\n",
      "Casino : 0.42874873067809993\n",
      "Trivia : 0.4174658693444658\n",
      "Educational;Education : 0.3949001466771973\n",
      "Board : 0.38361728534356315\n",
      "Educational : 0.37233442400992894\n",
      "Education;Education : 0.33848584000902626\n",
      "Word : 0.25950581067358686\n",
      "Casual;Pretend Play : 0.2369400880063184\n",
      "Music : 0.20309150400541578\n",
      "Racing;Action & Adventure : 0.16924292000451313\n",
      "Puzzle;Brain Games : 0.16924292000451313\n",
      "Entertainment;Music & Video : 0.16924292000451313\n",
      "Casual;Brain Games : 0.1353943360036105\n",
      "Casual;Action & Adventure : 0.1353943360036105\n",
      "Arcade;Action & Adventure : 0.1241114746699763\n",
      "Action;Action & Adventure : 0.10154575200270789\n",
      "Educational;Pretend Play : 0.09026289066907367\n",
      "Simulation;Action & Adventure : 0.07898002933543948\n",
      "Parenting;Education : 0.07898002933543948\n",
      "Entertainment;Brain Games : 0.07898002933543948\n",
      "Board;Brain Games : 0.07898002933543948\n",
      "Parenting;Music & Video : 0.06769716800180525\n",
      "Educational;Brain Games : 0.06769716800180525\n",
      "Casual;Creativity : 0.06769716800180525\n",
      "Art & Design;Creativity : 0.06769716800180525\n",
      "Education;Pretend Play : 0.05641430666817105\n",
      "Role Playing;Pretend Play : 0.045131445334536835\n",
      "Education;Creativity : 0.045131445334536835\n",
      "Role Playing;Action & Adventure : 0.033848584000902626\n",
      "Puzzle;Action & Adventure : 0.033848584000902626\n",
      "Entertainment;Creativity : 0.033848584000902626\n",
      "Entertainment;Action & Adventure : 0.033848584000902626\n",
      "Educational;Creativity : 0.033848584000902626\n",
      "Educational;Action & Adventure : 0.033848584000902626\n",
      "Education;Music & Video : 0.033848584000902626\n",
      "Education;Brain Games : 0.033848584000902626\n",
      "Education;Action & Adventure : 0.033848584000902626\n",
      "Adventure;Action & Adventure : 0.033848584000902626\n",
      "Video Players & Editors;Music & Video : 0.022565722667268417\n",
      "Sports;Action & Adventure : 0.022565722667268417\n",
      "Simulation;Pretend Play : 0.022565722667268417\n",
      "Puzzle;Creativity : 0.022565722667268417\n",
      "Music;Music & Video : 0.022565722667268417\n",
      "Entertainment;Pretend Play : 0.022565722667268417\n",
      "Casual;Education : 0.022565722667268417\n",
      "Board;Action & Adventure : 0.022565722667268417\n",
      "Video Players & Editors;Creativity : 0.011282861333634209\n",
      "Trivia;Education : 0.011282861333634209\n",
      "Travel & Local;Action & Adventure : 0.011282861333634209\n",
      "Tools;Education : 0.011282861333634209\n",
      "Strategy;Education : 0.011282861333634209\n",
      "Strategy;Creativity : 0.011282861333634209\n",
      "Strategy;Action & Adventure : 0.011282861333634209\n",
      "Simulation;Education : 0.011282861333634209\n",
      "Role Playing;Brain Games : 0.011282861333634209\n",
      "Racing;Pretend Play : 0.011282861333634209\n",
      "Puzzle;Education : 0.011282861333634209\n",
      "Parenting;Brain Games : 0.011282861333634209\n",
      "Music & Audio;Music & Video : 0.011282861333634209\n",
      "Lifestyle;Pretend Play : 0.011282861333634209\n",
      "Lifestyle;Education : 0.011282861333634209\n",
      "Health & Fitness;Education : 0.011282861333634209\n",
      "Health & Fitness;Action & Adventure : 0.011282861333634209\n",
      "Entertainment;Education : 0.011282861333634209\n",
      "Communication;Creativity : 0.011282861333634209\n",
      "Comics;Creativity : 0.011282861333634209\n",
      "Casual;Music & Video : 0.011282861333634209\n",
      "Card;Action & Adventure : 0.011282861333634209\n",
      "Books & Reference;Education : 0.011282861333634209\n",
      "Art & Design;Pretend Play : 0.011282861333634209\n",
      "Art & Design;Action & Adventure : 0.011282861333634209\n",
      "Arcade;Pretend Play : 0.011282861333634209\n",
      "Adventure;Education : 0.011282861333634209\n"
     ]
    }
   ],
   "source": [
    "display_table(google_final_dataset, 9)"
   ]
  },
  {
   "cell_type": "markdown",
   "metadata": {},
   "source": [
    "As we can see by the results above:\n",
    "\n",
    "* On Google dataset, the most common categories are **`Family` (18.90%), `Game` (9.73%) and `Tools` (8.46%)**.\n",
    "* Now, in comparison with the Apple dataset results, we have a higher percentage of **practical purpose apps** here, as we can see by the genres `Tools` (8.45%), `Education` (5.35%) and `Business` (4.59%). **Practical and fun apps seem to be more balanced**.\n",
    "\n",
    "Based on this frequency table, a **gaming/family app** seems to be the most recommended app profile. However, as we said before, **having a large number of apps of a certain genre does not necessarily imply that these apps have a large number of users**!"
   ]
  },
  {
   "cell_type": "markdown",
   "metadata": {
    "collapsed": true
   },
   "source": [
    "### Most Popular Genres (App Store)\n",
    "\n",
    "To find out what genres are the most popular (have the most users), we can calculate the average number of installs for each app genre.\n",
    "\n",
    "However, this information is missing for the App Store dataset. So, we are going to use the **total number of user ratings** (`rating_count_tot`)."
   ]
  },
  {
   "cell_type": "code",
   "execution_count": 27,
   "metadata": {
    "collapsed": false,
    "scrolled": true
   },
   "outputs": [
    {
     "data": {
      "text/plain": [
       "{'Book': 0.4345127250155183,\n",
       " 'Business': 0.5276225946617008,\n",
       " 'Catalogs': 0.12414649286157665,\n",
       " 'Education': 3.662321539416512,\n",
       " 'Entertainment': 7.883302296710118,\n",
       " 'Finance': 1.1173184357541899,\n",
       " 'Food & Drink': 0.8069522036002483,\n",
       " 'Games': 58.16263190564867,\n",
       " 'Health & Fitness': 2.0173805090006205,\n",
       " 'Lifestyle': 1.5828677839851024,\n",
       " 'Medical': 0.186219739292365,\n",
       " 'Music': 2.0484171322160147,\n",
       " 'Navigation': 0.186219739292365,\n",
       " 'News': 1.3345747982619491,\n",
       " 'Photo & Video': 4.9658597144630665,\n",
       " 'Productivity': 1.7380509000620732,\n",
       " 'Reference': 0.5586592178770949,\n",
       " 'Shopping': 2.60707635009311,\n",
       " 'Social Networking': 3.2898820608317814,\n",
       " 'Sports': 2.1415270018621975,\n",
       " 'Travel': 1.2414649286157666,\n",
       " 'Utilities': 2.5139664804469275,\n",
       " 'Weather': 0.8690254500310366}"
      ]
     },
     "execution_count": 27,
     "metadata": {},
     "output_type": "execute_result"
    }
   ],
   "source": [
    "prime_genre_freq_table_apple = freq_table(\n",
    "    apple_final_dataset, 11)\n",
    "prime_genre_freq_table_apple"
   ]
  },
  {
   "cell_type": "code",
   "execution_count": 28,
   "metadata": {
    "collapsed": false,
    "scrolled": true
   },
   "outputs": [
    {
     "name": "stdout",
     "output_type": "stream",
     "text": [
      "Photo & Video - 28441.54\n",
      "Music - 57326.53\n",
      "Utilities - 18684.46\n",
      "Weather - 52279.89\n",
      "News - 21248.02\n",
      "Entertainment - 14029.83\n",
      "Lifestyle - 16485.76\n",
      "Productivity - 21028.41\n",
      "Reference - 74942.11\n",
      "Health & Fitness - 23298.02\n",
      "Medical - 612.0\n",
      "Shopping - 26919.69\n",
      "Travel - 28243.8\n",
      "Social Networking - 71548.35\n",
      "Navigation - 86090.33\n",
      "Education - 7003.98\n",
      "Book - 39758.5\n",
      "Games - 22788.67\n",
      "Food & Drink - 33333.92\n",
      "Business - 7491.12\n",
      "Finance - 31467.94\n",
      "Sports - 23008.9\n",
      "Catalogs - 4004.0\n"
     ]
    }
   ],
   "source": [
    "for key in prime_genre_freq_table_apple:\n",
    "    total = 0\n",
    "    len_genre = 0\n",
    "    \n",
    "    for row in apple_final_dataset:\n",
    "        genre_app = row[11]\n",
    "        if genre_app == key:\n",
    "            total += float(row[5])\n",
    "            len_genre += 1\n",
    "    \n",
    "    avg_user_ratings = total / len_genre\n",
    "    print(key, '-', round(avg_user_ratings, 2))"
   ]
  },
  {
   "cell_type": "markdown",
   "metadata": {},
   "source": [
    "According to the results above, we are able to see that the five most popular genres are (in terms of average ratings per app):\n",
    "\n",
    "* **Navigation** - 86090.33 ratings per app\n",
    "* **Reference** - 74942.11 ratings per app\n",
    "* **Social Networking** - 71548.35 ratings per app\n",
    "* **Music** - 57326.53 ratings per app\n",
    "* **Weather** - 52279.89 ratings per app\n",
    "\n",
    "Let's check some examples for each of these categories to find out how distributed are these ratings per app:"
   ]
  },
  {
   "cell_type": "code",
   "execution_count": 32,
   "metadata": {
    "collapsed": false
   },
   "outputs": [
    {
     "name": "stdout",
     "output_type": "stream",
     "text": [
      "Waze - GPS Navigation, Maps & Real-time Traffic - 345046\n",
      "Google Maps - Navigation & Transit - 154911\n",
      "Geocaching® - 12811\n",
      "CoPilot GPS – Car Navigation & Offline Maps - 3582\n",
      "ImmobilienScout24: Real Estate Search in Germany - 187\n",
      "Railway Route Search - 5\n"
     ]
    }
   ],
   "source": [
    "for row in apple_final_dataset:\n",
    "    if row[-5] == 'Navigation':\n",
    "        print(row[1], '-', row[5])"
   ]
  },
  {
   "cell_type": "markdown",
   "metadata": {},
   "source": [
    "The average number of app ratings for `Navigation` is heavily influenced by Waze and Google Maps, and there aren't many apps in this category.\n",
    "\n",
    "**Waze and Google Maps are already very big players in this category, so it's hard to create a big competitor.**"
   ]
  },
  {
   "cell_type": "code",
   "execution_count": 34,
   "metadata": {
    "collapsed": false,
    "scrolled": true
   },
   "outputs": [
    {
     "name": "stdout",
     "output_type": "stream",
     "text": [
      "Bible - 985920\n",
      "Dictionary.com Dictionary & Thesaurus - 200047\n",
      "Dictionary.com Dictionary & Thesaurus for iPad - 54175\n",
      "Google Translate - 26786\n",
      "Muslim Pro: Ramadan 2017 Prayer Times, Azan, Quran - 18418\n",
      "New Furniture Mods - Pocket Wiki & Game Tools for Minecraft PC Edition - 17588\n",
      "Merriam-Webster Dictionary - 16849\n",
      "Night Sky - 12122\n",
      "City Maps for Minecraft PE - The Best Maps for Minecraft Pocket Edition (MCPE) - 8535\n",
      "LUCKY BLOCK MOD ™ for Minecraft PC Edition - The Best Pocket Wiki & Mods Installer Tools - 4693\n",
      "GUNS MODS for Minecraft PC Edition - Mods Tools - 1497\n",
      "Guides for Pokémon GO - Pokemon GO News and Cheats - 826\n",
      "WWDC - 762\n",
      "Horror Maps for Minecraft PE - Download The Scariest Maps for Minecraft Pocket Edition (MCPE) Free - 718\n",
      "VPN Express - 14\n",
      "Real Bike Traffic Rider Virtual Reality Glasses - 8\n",
      "教えて!goo - 0\n",
      "Jishokun-Japanese English Dictionary & Translator - 0\n"
     ]
    }
   ],
   "source": [
    "for row in apple_final_dataset:\n",
    "    if row[-5] == 'Reference':\n",
    "        print(row[1], '-', row[5])"
   ]
  },
  {
   "cell_type": "markdown",
   "metadata": {},
   "source": [
    "The average number of app ratings for `Reference` are heavily influenced by the Bible and Dictionary.com apps.\n",
    "\n",
    "**This category could be a good idea for a new app** if the objective is getting a high number of installs and engagement. It's possible to find another popular book and create an app with many features related to that book, for example."
   ]
  },
  {
   "cell_type": "code",
   "execution_count": 35,
   "metadata": {
    "collapsed": false
   },
   "outputs": [
    {
     "name": "stdout",
     "output_type": "stream",
     "text": [
      "Facebook - 2974676\n",
      "Pinterest - 1061624\n",
      "Skype for iPhone - 373519\n",
      "Messenger - 351466\n",
      "Tumblr - 334293\n",
      "WhatsApp Messenger - 287589\n",
      "Kik - 260965\n",
      "ooVoo – Free Video Call, Text and Voice - 177501\n",
      "TextNow - Unlimited Text + Calls - 164963\n",
      "Viber Messenger – Text & Call - 164249\n",
      "Followers - Social Analytics For Instagram - 112778\n",
      "MeetMe - Chat and Meet New People - 97072\n",
      "We Heart It - Fashion, wallpapers, quotes, tattoos - 90414\n",
      "InsTrack for Instagram - Analytics Plus More - 85535\n",
      "Tango - Free Video Call, Voice and Chat - 75412\n",
      "LinkedIn - 71856\n",
      "Match™ - #1 Dating App. - 60659\n",
      "Skype for iPad - 60163\n",
      "POF - Best Dating App for Conversations - 52642\n",
      "Timehop - 49510\n",
      "Find My Family, Friends & iPhone - Life360 Locator - 43877\n",
      "Whisper - Share, Express, Meet - 39819\n",
      "Hangouts - 36404\n",
      "LINE PLAY - Your Avatar World - 34677\n",
      "WeChat - 34584\n",
      "Badoo - Meet New People, Chat, Socialize. - 34428\n",
      "Followers + for Instagram - Follower Analytics - 28633\n",
      "GroupMe - 28260\n",
      "Marco Polo Video Walkie Talkie - 27662\n",
      "Miitomo - 23965\n",
      "SimSimi - 23530\n",
      "Grindr - Gay and same sex guys chat, meet and date - 23201\n",
      "Wishbone - Compare Anything - 20649\n",
      "imo video calls and chat - 18841\n",
      "After School - Funny Anonymous School News - 18482\n",
      "Quick Reposter - Repost, Regram and Reshare Photos - 17694\n",
      "Weibo HD - 16772\n",
      "Repost for Instagram - 15185\n",
      "Live.me – Live Video Chat & Make Friends Nearby - 14724\n",
      "Nextdoor - 14402\n",
      "Followers Analytics for Instagram - InstaReport - 13914\n",
      "YouNow: Live Stream Video Chat - 12079\n",
      "FollowMeter for Instagram - Followers Tracking - 11976\n",
      "LINE - 11437\n",
      "eHarmony™ Dating App - Meet Singles - 11124\n",
      "Discord - Chat for Gamers - 9152\n",
      "QQ - 9109\n",
      "Telegram Messenger - 7573\n",
      "Weibo - 7265\n",
      "Periscope - Live Video Streaming Around the World - 6062\n",
      "Chat for Whatsapp - iPad Version - 5060\n",
      "QQ HD - 5058\n",
      "Followers Analysis Tool For Instagram App Free - 4253\n",
      "live.ly - live video streaming - 4145\n",
      "Houseparty - Group Video Chat - 3991\n",
      "SOMA Messenger - 3232\n",
      "Monkey - 3060\n",
      "Down To Lunch - 2535\n",
      "Flinch - Video Chat Staring Contest - 2134\n",
      "Highrise - Your Avatar Community - 2011\n",
      "LOVOO - Dating Chat - 1985\n",
      "PlayStation®Messages - 1918\n",
      "BOO! - Video chat camera with filters & stickers - 1805\n",
      "Qzone - 1649\n",
      "Chatous - Chat with new people - 1609\n",
      "Kiwi - Q&A - 1538\n",
      "GhostCodes - a discovery app for Snapchat - 1313\n",
      "Jodel - 1193\n",
      "FireChat - 1037\n",
      "Google Duo - simple video calling - 1033\n",
      "Fiesta by Tango - Chat & Meet New People - 885\n",
      "Google Allo — smart messaging - 862\n",
      "Peach — share vividly - 727\n",
      "Hey! VINA - Where Women Meet New Friends - 719\n",
      "Battlefield™ Companion - 689\n",
      "All Devices for WhatsApp - Messenger for iPad - 682\n",
      "Chat for Pokemon Go - GoChat - 500\n",
      "IAmNaughty – Dating App to Meet New People Online - 463\n",
      "Qzone HD - 458\n",
      "Zenly - Locate your friends in realtime - 427\n",
      "League of Legends Friends - 420\n",
      "豆瓣 - 407\n",
      "Candid - Speak Your Mind Freely - 398\n",
      "知乎 - 397\n",
      "Selfeo - 366\n",
      "Fake-A-Location Free ™ - 354\n",
      "Popcorn Buzz - Free Group Calls - 281\n",
      "Fam — Group video calling for iMessage - 279\n",
      "QQ International - 274\n",
      "Ameba - 269\n",
      "SoundCloud Pulse: for creators - 240\n",
      "Tantan - 235\n",
      "Cougar Dating & Life Style App for Mature Women - 213\n",
      "Rawr Messenger - Dab your chat - 180\n",
      "WhenToPost: Best Time to Post Photos for Instagram - 158\n",
      "Inke—Broadcast an amazing life - 147\n",
      "Mustknow - anonymous video Q&A - 53\n",
      "CTFxCmoji - 39\n",
      "Lobi - 36\n",
      "Chain: Collaborate On MyVideo Story/Group Video - 35\n",
      "botman - Real time video chat - 7\n",
      "BestieBox - 0\n",
      "MATCH ON LINE chat - 0\n",
      "niconico ch - 0\n",
      "LINE BLOG - 0\n",
      "bit-tube - Live Stream Video Chat - 0\n"
     ]
    }
   ],
   "source": [
    "for row in apple_final_dataset:\n",
    "    if row[-5] == 'Social Networking':\n",
    "        print(row[1], '-', row[5])"
   ]
  },
  {
   "cell_type": "markdown",
   "metadata": {},
   "source": [
    "The average number of app ratings for `Social Networking` is heavily influenced by big players like Facebook, Pinterest, Skype, Tumblr and Whatsapp.\n",
    "\n",
    "**Since there are so many big players in this category, it's hard to create a new big competitor.**"
   ]
  },
  {
   "cell_type": "code",
   "execution_count": 36,
   "metadata": {
    "collapsed": false,
    "scrolled": true
   },
   "outputs": [
    {
     "name": "stdout",
     "output_type": "stream",
     "text": [
      "Pandora - Music & Radio - 1126879\n",
      "Spotify Music - 878563\n",
      "Shazam - Discover music, artists, videos & lyrics - 402925\n",
      "iHeartRadio – Free Music & Radio Stations - 293228\n",
      "SoundCloud - Music & Audio - 135744\n",
      "Magic Piano by Smule - 131695\n",
      "Smule Sing! - 119316\n",
      "TuneIn Radio - MLB NBA Audiobooks Podcasts Music - 110420\n",
      "Amazon Music - 106235\n",
      "SoundHound Song Search & Music Player - 82602\n",
      "Sonos Controller - 48905\n",
      "Bandsintown Concerts - 30845\n",
      "Karaoke - Sing Karaoke, Unlimited Songs! - 28606\n",
      "My Mixtapez Music - 26286\n",
      "Sing Karaoke Songs Unlimited with StarMaker - 26227\n",
      "Ringtones for iPhone & Ringtone Maker - 25403\n",
      "Musi - Unlimited Music For YouTube - 25193\n",
      "AutoRap by Smule - 18202\n",
      "Spinrilla - Mixtapes For Free - 15053\n",
      "Napster - Top Music & Radio - 14268\n",
      "edjing Mix:DJ turntable to remix and scratch music - 13580\n",
      "Free Music - MP3 Streamer & Playlist Manager Pro - 13443\n",
      "Free Piano app by Yokee - 13016\n",
      "Google Play Music - 10118\n",
      "Certified Mixtapes - Hip Hop Albums & Mixtapes - 9975\n",
      "TIDAL - 7398\n",
      "YouTube Music - 7109\n",
      "Nicki Minaj: The Empire - 5196\n",
      "Sounds app - Music And Friends - 5126\n",
      "SongFlip - Free Music Streamer - 5004\n",
      "Simple Radio - Live AM & FM Radio Stations - 4787\n",
      "Deezer - Listen to your Favorite Music & Playlists - 4677\n",
      "Ringtones for iPhone with Ringtone Maker - 4013\n",
      "Bose SoundTouch - 3687\n",
      "Amazon Alexa - 3018\n",
      "DatPiff - 2815\n",
      "Trebel Music - Unlimited Music Downloader - 2570\n",
      "Free Music Play - Mp3 Streamer & Player - 2496\n",
      "Acapella from PicPlayPost - 2487\n",
      "Coach Guitar - Lessons & Easy Tabs For Beginners - 2416\n",
      "Musicloud - MP3 and FLAC Music Player for Cloud Platforms. - 2211\n",
      "Piano - Play Keyboard Music Games with Magic Tiles - 1636\n",
      "Boom: Best Equalizer & Magical Surround Sound - 1375\n",
      "Music Freedom - Unlimited Free MP3 Music Streaming - 1246\n",
      "AmpMe - A Portable Social Party Music Speaker - 1047\n",
      "Medly - Music Maker - 933\n",
      "Bose Connect - 915\n",
      "Music Memos - 909\n",
      "UE BOOM - 612\n",
      "LiveMixtapes - 555\n",
      "NOISE - 355\n",
      "MP3 Music Player & Streamer for Clouds - 329\n",
      "Musical Video Maker - Create Music clips lip sync - 320\n",
      "Cloud Music Player - Downloader & Playlist Manager - 319\n",
      "Remixlive - Remix loops with pads - 288\n",
      "QQ音乐HD - 224\n",
      "Blocs Wave - Make & Record Music - 158\n",
      "PlayGround • Music At Your Fingertips - 150\n",
      "Music and Chill - 135\n",
      "The Singing Machine Mobile Karaoke App - 130\n",
      "radio.de - Der Radioplayer - 64\n",
      "Free Music -  Player & Streamer  for Dropbox, OneDrive & Google Drive - 46\n",
      "NRJ Radio - 38\n",
      "Smart Music: Streaming Videos and Radio - 17\n",
      "BOSS Tuner - 13\n",
      "PetitLyrics - 0\n"
     ]
    }
   ],
   "source": [
    "for row in apple_final_dataset:\n",
    "    if row[-5] == 'Music':\n",
    "        print(row[1], '-', row[5])"
   ]
  },
  {
   "cell_type": "markdown",
   "metadata": {},
   "source": [
    "The average number of app ratings for `Music` is heavily influenced by big players like Pandora, Spotify, Shazam and SoundCloud.\n",
    "\n",
    "**Again, there are many big players in this category, so it's hard to create a new big competitor.**"
   ]
  },
  {
   "cell_type": "code",
   "execution_count": 37,
   "metadata": {
    "collapsed": false,
    "scrolled": true
   },
   "outputs": [
    {
     "name": "stdout",
     "output_type": "stream",
     "text": [
      "The Weather Channel: Forecast, Radar & Alerts - 495626\n",
      "The Weather Channel App for iPad – best local forecast, radar map, and storm tracking - 208648\n",
      "WeatherBug - Local Weather, Radar, Maps, Alerts - 188583\n",
      "MyRadar NOAA Weather Radar Forecast - 150158\n",
      "AccuWeather - Weather for Life - 144214\n",
      "Yahoo Weather - 112603\n",
      "Weather Underground: Custom Forecast & Local Radar - 49192\n",
      "NOAA Weather Radar - Weather Forecast & HD Radar - 45696\n",
      "Weather Live Free - Weather Forecast & Alerts - 35702\n",
      "Storm Radar - 22792\n",
      "QuakeFeed Earthquake Map, Alerts, and News - 6081\n",
      "Moji Weather - Free Weather Forecast - 2333\n",
      "Hurricane by American Red Cross - 1158\n",
      "Forecast Bar - 375\n",
      "Hurricane Tracker WESH 2 Orlando, Central Florida - 203\n",
      "FEMA - 128\n",
      "iWeather - World weather forecast - 80\n",
      "Weather - Radar - Storm with Morecast App - 78\n",
      "Yurekuru Call - 53\n",
      "Weather & Radar - 37\n",
      "WRAL Weather Alert - 25\n",
      "Météo-France - 24\n",
      "JaxReady - 22\n",
      "Freddy the Frogcaster's Weather Station - 14\n",
      "Almanac Long-Range Weather Forecast - 12\n",
      "TodayAir - 0\n",
      "wetter.com - 0\n",
      "WarnWetter - 0\n"
     ]
    }
   ],
   "source": [
    "for row in apple_final_dataset:\n",
    "    if row[-5] == 'Weather':\n",
    "        print(row[1], '-', row[5])"
   ]
  },
  {
   "cell_type": "markdown",
   "metadata": {},
   "source": [
    "The average number of app ratings for `Music` is heavily influenced by big players like The Weather Channel, AccuWeather and Yahoo Weather.\n",
    "\n",
    "Again, there are many big players in this category, so it's hard to create a new big competitor. Also, **weather apps do not generate a high amount of engagement**, since generally people spend little time on weather apps.\n",
    "\n",
    "#### Recommended profiles for App Store\n",
    "\n",
    "With the considerations above, we recommend the creation of a **book-based app (`Reference`) or a practical app that relies on gamification** somehow, since the **main focus for App Store seems to be on entertainment apps**, but the **genres directly related to entertainment (gaming apps, for example) seem to be saturated or have many big players already (music and social networking apps, for example)**."
   ]
  },
  {
   "cell_type": "markdown",
   "metadata": {},
   "source": [
    "### Most Popular Genres (Google Play)\n",
    "\n",
    "For Google dataset, we have the number of installs for each app and, then, we are able to calculate the average number of installs for each app genre.\n",
    "\n",
    "However, these numbers are open-ended (for example, `10,000,000+`). In order to calculate the average number of installs for each app genre, we need to remove commas and plus characters, converting each install number from string to float."
   ]
  },
  {
   "cell_type": "code",
   "execution_count": 29,
   "metadata": {
    "collapsed": false,
    "scrolled": true
   },
   "outputs": [
    {
     "data": {
      "text/plain": [
       "{'ART_AND_DESIGN': 0.6431230960171499,\n",
       " 'AUTO_AND_VEHICLES': 0.9251946293580051,\n",
       " 'BEAUTY': 0.5979916506826132,\n",
       " 'BOOKS_AND_REFERENCE': 2.1437436533904997,\n",
       " 'BUSINESS': 4.592124562789123,\n",
       " 'COMICS': 0.6205573733498815,\n",
       " 'COMMUNICATION': 3.2381812027530184,\n",
       " 'DATING': 1.8616721200496444,\n",
       " 'EDUCATION': 1.1621347173643235,\n",
       " 'ENTERTAINMENT': 0.9590432133589079,\n",
       " 'EVENTS': 0.7108202640189552,\n",
       " 'FAMILY': 18.898792733837304,\n",
       " 'FINANCE': 3.7007785174320205,\n",
       " 'FOOD_AND_DRINK': 1.241114746699763,\n",
       " 'GAME': 9.725826469592688,\n",
       " 'HEALTH_AND_FITNESS': 3.0802211440821394,\n",
       " 'HOUSE_AND_HOME': 0.8236488773552973,\n",
       " 'LIBRARIES_AND_DEMO': 0.9364774906916393,\n",
       " 'LIFESTYLE': 3.9038700214374367,\n",
       " 'MAPS_AND_NAVIGATION': 1.399074805370642,\n",
       " 'MEDICAL': 3.5315355974275078,\n",
       " 'NEWS_AND_MAGAZINES': 2.798149610741284,\n",
       " 'PARENTING': 0.6544059573507841,\n",
       " 'PERSONALIZATION': 3.317161232088458,\n",
       " 'PHOTOGRAPHY': 2.944826808078529,\n",
       " 'PRODUCTIVITY': 3.8925871601038025,\n",
       " 'SHOPPING': 2.245289405393208,\n",
       " 'SOCIAL': 2.6627552747376737,\n",
       " 'SPORTS': 3.396141261423897,\n",
       " 'TOOLS': 8.462146000225657,\n",
       " 'TRAVEL_AND_LOCAL': 2.335552296062281,\n",
       " 'VIDEO_PLAYERS': 1.7939749520478394,\n",
       " 'WEATHER': 0.8010831546880289}"
      ]
     },
     "execution_count": 29,
     "metadata": {},
     "output_type": "execute_result"
    }
   ],
   "source": [
    "prime_genre_freq_table_google = freq_table(\n",
    "    google_final_dataset, 1)\n",
    "prime_genre_freq_table_google"
   ]
  },
  {
   "cell_type": "code",
   "execution_count": 30,
   "metadata": {
    "collapsed": false,
    "scrolled": true
   },
   "outputs": [
    {
     "name": "stdout",
     "output_type": "stream",
     "text": [
      "HOUSE_AND_HOME - 1331540.56\n",
      "PRODUCTIVITY - 16787331.34\n",
      "PHOTOGRAPHY - 17840110.4\n",
      "LIBRARIES_AND_DEMO - 638503.73\n",
      "GAME - 15588015.6\n",
      "SOCIAL - 23253652.13\n",
      "BUSINESS - 1712290.15\n",
      "AUTO_AND_VEHICLES - 647317.82\n",
      "LIFESTYLE - 1437816.27\n",
      "BOOKS_AND_REFERENCE - 8767811.89\n",
      "SHOPPING - 7036877.31\n",
      "FOOD_AND_DRINK - 1924897.74\n",
      "DATING - 854028.83\n",
      "BEAUTY - 513151.89\n",
      "TOOLS - 10801391.3\n",
      "WEATHER - 5074486.2\n",
      "COMICS - 817657.27\n",
      "FINANCE - 1387692.48\n",
      "ART_AND_DESIGN - 1986335.09\n",
      "COMMUNICATION - 38456119.17\n",
      "SPORTS - 3638640.14\n",
      "EDUCATION - 1833495.15\n",
      "ENTERTAINMENT - 11640705.88\n",
      "FAMILY - 3697848.17\n",
      "NEWS_AND_MAGAZINES - 9549178.47\n",
      "PERSONALIZATION - 5201482.61\n",
      "MAPS_AND_NAVIGATION - 4056941.77\n",
      "TRAVEL_AND_LOCAL - 13984077.71\n",
      "EVENTS - 253542.22\n",
      "VIDEO_PLAYERS - 24727872.45\n",
      "MEDICAL - 120550.62\n",
      "HEALTH_AND_FITNESS - 4188821.99\n",
      "PARENTING - 542603.62\n"
     ]
    }
   ],
   "source": [
    "for key in prime_genre_freq_table_google:\n",
    "    total = 0\n",
    "    len_category = 0\n",
    "    \n",
    "    for row in google_final_dataset:\n",
    "        category_app = row[1]\n",
    "        if category_app == key:\n",
    "            installs = row[5]\n",
    "            installs = installs.replace('+', '')\n",
    "            installs = installs.replace(',', '')\n",
    "            \n",
    "            total += float(installs)\n",
    "            len_category += 1\n",
    "    \n",
    "    avg_user_ratings = total / len_category\n",
    "    print(key, '-', round(avg_user_ratings, 2))"
   ]
  },
  {
   "cell_type": "markdown",
   "metadata": {},
   "source": [
    "According to the results above, we are able to see that the five most popular genres are (in terms of average installs per app):\n",
    "\n",
    "* **Communication** - 38456119.17 installs per app\n",
    "* **Video Players** - 24727872.45 installs per app\n",
    "* **Social** - 23253652.13 installs per app\n",
    "* **Photography** - 17840110.4 installs per app\n",
    "* **Productivity** - 16787331.34 installs per app\n",
    "\n",
    "Let's check some examples for each of these categories to find out how distributed are these ratings per app:"
   ]
  },
  {
   "cell_type": "code",
   "execution_count": 41,
   "metadata": {
    "collapsed": false,
    "scrolled": true
   },
   "outputs": [
    {
     "name": "stdout",
     "output_type": "stream",
     "text": [
      "WhatsApp Messenger - 1,000,000,000+\n",
      "imo beta free calls and text - 100,000,000+\n",
      "Android Messages - 100,000,000+\n",
      "Google Duo - High Quality Video Calls - 500,000,000+\n",
      "Messenger – Text and Video Chat for Free - 1,000,000,000+\n",
      "imo free video calls and chat - 500,000,000+\n",
      "Skype - free IM & video calls - 1,000,000,000+\n",
      "Who - 100,000,000+\n",
      "GO SMS Pro - Messenger, Free Themes, Emoji - 100,000,000+\n",
      "LINE: Free Calls & Messages - 500,000,000+\n",
      "Google Chrome: Fast & Secure - 1,000,000,000+\n",
      "Firefox Browser fast & private - 100,000,000+\n",
      "UC Browser - Fast Download Private & Secure - 500,000,000+\n",
      "Gmail - 1,000,000,000+\n",
      "Hangouts - 1,000,000,000+\n",
      "Messenger Lite: Free Calls & Messages - 100,000,000+\n",
      "Kik - 100,000,000+\n",
      "KakaoTalk: Free Calls & Text - 100,000,000+\n",
      "Opera Mini - fast web browser - 100,000,000+\n",
      "Opera Browser: Fast and Secure - 100,000,000+\n",
      "Telegram - 100,000,000+\n",
      "Truecaller: Caller ID, SMS spam blocking & Dialer - 100,000,000+\n",
      "UC Browser Mini -Tiny Fast Private & Secure - 100,000,000+\n",
      "Viber Messenger - 500,000,000+\n",
      "WeChat - 100,000,000+\n",
      "Yahoo Mail – Stay Organized - 100,000,000+\n",
      "BBM - Free Calls & Messages - 100,000,000+\n"
     ]
    }
   ],
   "source": [
    "for row in google_final_dataset:\n",
    "    if row[1] == 'COMMUNICATION' and (row[5] == '1,000,000,000+'\n",
    "                                      or row[5] == '500,000,000+'\n",
    "                                      or row[5] == '100,000,000+'):\n",
    "        print(row[0], '-', row[5])"
   ]
  },
  {
   "cell_type": "markdown",
   "metadata": {},
   "source": [
    "The average number of app installs for `Communication` is heavily influenced by Whatsapp, Messenger, Skype, Gmail and Hangouts, a lot of big players.\n",
    "\n",
    "**Again, it's hard to create a new big competitor in this category.** Also, the high average number of installs in this category is highly influenced by these big apps. If we removed these renowned apps, the average number would probably be much smaller."
   ]
  },
  {
   "cell_type": "code",
   "execution_count": 43,
   "metadata": {
    "collapsed": false,
    "scrolled": true
   },
   "outputs": [
    {
     "name": "stdout",
     "output_type": "stream",
     "text": [
      "YouTube - 1,000,000,000+\n",
      "Motorola Gallery - 100,000,000+\n",
      "VLC for Android - 100,000,000+\n",
      "Google Play Movies & TV - 1,000,000,000+\n",
      "MX Player - 500,000,000+\n",
      "Dubsmash - 100,000,000+\n",
      "VivaVideo - Video Editor & Photo Movie - 100,000,000+\n",
      "VideoShow-Video Editor, Video Maker, Beauty Camera - 100,000,000+\n",
      "Motorola FM Radio - 100,000,000+\n"
     ]
    }
   ],
   "source": [
    "for row in google_final_dataset:\n",
    "    if row[1] == 'VIDEO_PLAYERS' and (row[5] == '1,000,000,000+'\n",
    "                                      or row[5] == '500,000,000+'\n",
    "                                      or row[5] == '100,000,000+'):\n",
    "        print(row[0], '-', row[5])"
   ]
  },
  {
   "cell_type": "markdown",
   "metadata": {},
   "source": [
    "The average number of app installs for `Video Players` are heavily influenced by Youtube and Google Play.\n",
    "\n",
    "It follows the same pattern as communication apps, where **big players enlarge the average number of installs and it's hard to create a new competitor**."
   ]
  },
  {
   "cell_type": "code",
   "execution_count": 44,
   "metadata": {
    "collapsed": false,
    "scrolled": true
   },
   "outputs": [
    {
     "name": "stdout",
     "output_type": "stream",
     "text": [
      "Facebook - 1,000,000,000+\n",
      "Facebook Lite - 500,000,000+\n",
      "Tumblr - 100,000,000+\n",
      "Pinterest - 100,000,000+\n",
      "Google+ - 1,000,000,000+\n",
      "Badoo - Free Chat & Dating App - 100,000,000+\n",
      "Tango - Live Video Broadcast - 100,000,000+\n",
      "Instagram - 1,000,000,000+\n",
      "Snapchat - 500,000,000+\n",
      "LinkedIn - 100,000,000+\n",
      "Tik Tok - including musical.ly - 100,000,000+\n",
      "BIGO LIVE - Live Stream - 100,000,000+\n",
      "VK - 100,000,000+\n"
     ]
    }
   ],
   "source": [
    "for row in google_final_dataset:\n",
    "    if row[1] == 'SOCIAL' and (row[5] == '1,000,000,000+'\n",
    "                               or row[5] == '500,000,000+'\n",
    "                               or row[5] == '100,000,000+'):\n",
    "        print(row[0], '-', row[5])"
   ]
  },
  {
   "cell_type": "markdown",
   "metadata": {},
   "source": [
    "The average number of app installs for `Social` are heavily influenced by Facebook, Instagram, Google+, Snapchat and other big players.\n",
    "\n",
    "It follows the same pattern as communication apps, where **big players enlarge the average number of installs and it's hard to create a new competitor**."
   ]
  },
  {
   "cell_type": "code",
   "execution_count": 45,
   "metadata": {
    "collapsed": false,
    "scrolled": true
   },
   "outputs": [
    {
     "name": "stdout",
     "output_type": "stream",
     "text": [
      "B612 - Beauty & Filter Camera - 100,000,000+\n",
      "YouCam Makeup - Magic Selfie Makeovers - 100,000,000+\n",
      "Sweet Selfie - selfie camera, beauty cam, photo edit - 100,000,000+\n",
      "Google Photos - 1,000,000,000+\n",
      "Retrica - 100,000,000+\n",
      "Photo Editor Pro - 100,000,000+\n",
      "BeautyPlus - Easy Photo Editor & Selfie Camera - 100,000,000+\n",
      "PicsArt Photo Studio: Collage Maker & Pic Editor - 100,000,000+\n",
      "Photo Collage Editor - 100,000,000+\n",
      "Z Camera - Photo Editor, Beauty Selfie, Collage - 100,000,000+\n",
      "PhotoGrid: Video & Pic Collage Maker, Photo Editor - 100,000,000+\n",
      "Candy Camera - selfie, beauty camera, photo editor - 100,000,000+\n",
      "YouCam Perfect - Selfie Photo Editor - 100,000,000+\n",
      "Camera360: Selfie Photo Editor with Funny Sticker - 100,000,000+\n",
      "S Photo Editor - Collage Maker , Photo Collage - 100,000,000+\n",
      "AR effect - 100,000,000+\n",
      "Cymera Camera- Photo Editor, Filter,Collage,Layout - 100,000,000+\n",
      "LINE Camera - Photo editor - 100,000,000+\n",
      "Photo Editor Collage Maker Pro - 100,000,000+\n"
     ]
    }
   ],
   "source": [
    "for row in google_final_dataset:\n",
    "    if row[1] == 'PHOTOGRAPHY' and (row[5] == '1,000,000,000+'\n",
    "                                    or row[5] == '500,000,000+'\n",
    "                                    or row[5] == '100,000,000+'):\n",
    "        print(row[0], '-', row[5])"
   ]
  },
  {
   "cell_type": "markdown",
   "metadata": {},
   "source": [
    "The average number of app installs for `Photography` are heavily influenced by Google Photos and many other popular photo editors.\n",
    "\n",
    "It follows the same pattern as communication apps, where **big players enlarge the average number of installs and it's hard to create a new competitor**."
   ]
  },
  {
   "cell_type": "code",
   "execution_count": 46,
   "metadata": {
    "collapsed": false,
    "scrolled": true
   },
   "outputs": [
    {
     "name": "stdout",
     "output_type": "stream",
     "text": [
      "Microsoft Word - 500,000,000+\n",
      "Microsoft Outlook - 100,000,000+\n",
      "Microsoft OneDrive - 100,000,000+\n",
      "Microsoft OneNote - 100,000,000+\n",
      "Google Keep - 100,000,000+\n",
      "ES File Explorer File Manager - 100,000,000+\n",
      "Dropbox - 500,000,000+\n",
      "Google Docs - 100,000,000+\n",
      "Microsoft PowerPoint - 100,000,000+\n",
      "Samsung Notes - 100,000,000+\n",
      "SwiftKey Keyboard - 100,000,000+\n",
      "Google Drive - 1,000,000,000+\n",
      "Adobe Acrobat Reader - 100,000,000+\n",
      "Google Sheets - 100,000,000+\n",
      "Microsoft Excel - 100,000,000+\n",
      "WPS Office - Word, Docs, PDF, Note, Slide & Sheet - 100,000,000+\n",
      "Google Slides - 100,000,000+\n",
      "ColorNote Notepad Notes - 100,000,000+\n",
      "Evernote – Organizer, Planner for Notes & Memos - 100,000,000+\n",
      "Google Calendar - 500,000,000+\n",
      "Cloud Print - 500,000,000+\n",
      "CamScanner - Phone PDF Creator - 100,000,000+\n"
     ]
    }
   ],
   "source": [
    "for row in google_final_dataset:\n",
    "    if row[1] == 'PRODUCTIVITY' and (row[5] == '1,000,000,000+'\n",
    "                                     or row[5] == '500,000,000+'\n",
    "                                     or row[5] == '100,000,000+'):\n",
    "        print(row[0], '-', row[5])"
   ]
  },
  {
   "cell_type": "markdown",
   "metadata": {},
   "source": [
    "The average number of app installs for `Productivity` are heavily influenced by Google Drive, Google Calendar, Cloud Print, Dropbox and many Microsoft Office apps.\n",
    "\n",
    "It follows the same pattern as communication apps, where **big players enlarge the average number of installs and it's hard to create a new competitor**.\n",
    "\n",
    "Let's check out the `Books and Reference` category, which we figured out to be a good idea for App Store (it's also a popular category for Google Play, even though not as much as the others we have analyzed until now):"
   ]
  },
  {
   "cell_type": "code",
   "execution_count": 47,
   "metadata": {
    "collapsed": false
   },
   "outputs": [
    {
     "name": "stdout",
     "output_type": "stream",
     "text": [
      "Google Play Books - 1,000,000,000+\n",
      "Bible - 100,000,000+\n",
      "Amazon Kindle - 100,000,000+\n",
      "Wattpad 📖 Free Books - 100,000,000+\n",
      "Audiobooks from Audible - 100,000,000+\n"
     ]
    }
   ],
   "source": [
    "for row in google_final_dataset:\n",
    "    if row[1] == 'BOOKS_AND_REFERENCE' and (row[5] == '1,000,000,000+'\n",
    "                                            or row[5] == '500,000,000+'\n",
    "                                            or row[5] == '100,000,000+'):\n",
    "        print(row[0], '-', row[5])"
   ]
  },
  {
   "cell_type": "markdown",
   "metadata": {},
   "source": [
    "There aren't as many big players or popular apps like the other categories, so **probably there's a good potential for this category for Google Play**.\n",
    "\n",
    "This category includes a variety of apps: from software for processing and reading ebooks and collections of libraries (like Google Play Books and Amazon Kindle) to dictionaries and book-based apps (like the Bible)."
   ]
  },
  {
   "cell_type": "markdown",
   "metadata": {},
   "source": [
    "#### Recommended profiles for Google Play\n",
    "\n",
    "With the considerations above, we again recommend the creation of a **book-based app (`Reference`)**, since the **genres directly related to entertainment (gaming apps, for example) seem to be saturated or have many big players already (music and social networking apps, for example)**."
   ]
  },
  {
   "cell_type": "code",
   "execution_count": null,
   "metadata": {
    "collapsed": true
   },
   "outputs": [],
   "source": []
  }
 ],
 "metadata": {
  "kernelspec": {
   "display_name": "Python 3",
   "language": "python",
   "name": "python3"
  },
  "language_info": {
   "codemirror_mode": {
    "name": "ipython",
    "version": 3
   },
   "file_extension": ".py",
   "mimetype": "text/x-python",
   "name": "python",
   "nbconvert_exporter": "python",
   "pygments_lexer": "ipython3",
   "version": "3.4.3"
  }
 },
 "nbformat": 4,
 "nbformat_minor": 2
}
